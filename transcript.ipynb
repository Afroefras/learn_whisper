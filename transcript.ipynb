{
 "cells": [
  {
   "cell_type": "code",
   "execution_count": 1,
   "metadata": {},
   "outputs": [],
   "source": [
    "FILE_NAME = \"files_to_transcript/sync_dash_test.mp3\"\n",
    "MODEL = \"small\""
   ]
  },
  {
   "cell_type": "code",
   "execution_count": 2,
   "metadata": {},
   "outputs": [
    {
     "name": "stderr",
     "output_type": "stream",
     "text": [
      "/Users/efrainflores/.local/share/virtualenvs/learn_whisper-C_LMKwxl/lib/python3.10/site-packages/tqdm/auto.py:21: TqdmWarning: IProgress not found. Please update jupyter and ipywidgets. See https://ipywidgets.readthedocs.io/en/stable/user_install.html\n",
      "  from .autonotebook import tqdm as notebook_tqdm\n"
     ]
    }
   ],
   "source": [
    "import whisper\n",
    "\n",
    "model = whisper.load_model(MODEL)"
   ]
  },
  {
   "cell_type": "code",
   "execution_count": 3,
   "metadata": {},
   "outputs": [
    {
     "name": "stderr",
     "output_type": "stream",
     "text": [
      "/Users/efrainflores/.local/share/virtualenvs/learn_whisper-C_LMKwxl/lib/python3.10/site-packages/whisper/transcribe.py:114: UserWarning: FP16 is not supported on CPU; using FP32 instead\n",
      "  warnings.warn(\"FP16 is not supported on CPU; using FP32 instead\")\n"
     ]
    }
   ],
   "source": [
    "transcription = model.transcribe(FILE_NAME)"
   ]
  },
  {
   "cell_type": "code",
   "execution_count": 6,
   "metadata": {},
   "outputs": [
    {
     "name": "stdout",
     "output_type": "stream",
     "text": [
      " Ya está. Ya. Listo. Entonces, de pronto va a ser un tanto largo, pero bueno. Hay tiempo, hay tiempo. Listo, listo. Entonces, así como, así súper, súper inicial, aunque creo que igual es como lo, lo así que creo que ya lo sabes. El tema de tablo funciona un poco similar a Metabase. Y es que en Metabase nosotros construimos preguntas. Y a la final esas preguntas las unimos y como creamos como un tablero final. Entonces, en tablo es muy similar a la final. Hay hojas que esas hojas después las agregamos a un tablero. Entonces, estoy aquí, hice una hoja. Y estoy aquí, ya es un tablero donde puedo agregar varias, varias hojas que... que... que pues construyan el tablero. Ok, ok. Grita como que se intenta conectar otra vez a la base de datos, ¿no? Yo... Bueno, sí. Yo lo trabajo normalmente con extractos. Quiero hacer un extracto, es algo... o lo emparejo mucho, lo que hace... o lo que hacemos con Airplow, que es hacer como actualización de datos cada X tiempo. Como para no... para no dejar conectada la... la fuente de datos directamente a la base de datos. Porque lo que va a pasar es que sí, va a ir a hacer... va a ir a ejecutar todo el tiempo, la consulta. Entonces... Siento, si quiero ya te muestro eso super rápido. Aunque tal vez pueda morir, pero... Eso lo olvido hacer antes de... Sí, entonces, y entre más hojas tenga un tablero... también va a tardar, ¿no? Como entre más preguntas, tenga un dashboard en meta base. Depende, no necesariamente, porque tú puedes construir varias hojas con una sola fuente. Eso es lo que yo intento hacer, pero por ejemplo, este tablero... siento que lo podemos... podemos hacer eso más eficiente. El tema de las fuentes de datos. Entonces, mira. Por ejemplo, esta se conecta... se conecta muy similar a cómo se conecta meta base. Entonces, nosotros mismos, y le ponemos la... como las creencias y todo eso. Entonces, aquí le podemos crear la conexión. Esta es la conexión, obviamente, con las creencias. Y se pueden llamar tablas, así tal cual. O hacer consultas en SQL personalizadas. Para traer la fuente como un poco más elaborada. Y acá arriba. Una pregunta. Por ejemplo, si te estás conectando a una base de datos Postgre, ¿costa SQL también respeta el mismo sabor de SQL o es otro? Sí. Sí, sí, sí. Sí lo respeta, sí. Entonces, el de NowPort, Nucleus o Admin, es MySQL, ¿no? Sí, sí, que por ahí me ha costado un poco, porque no hay round-humber y no hay cosas así. Entonces, me ha tocado probar otras cosas, pero no sabía que existía. Son MySQL, entonces, pero bueno, está bien. Bueno, nada más para que de Just for the Record. Ahora sí, literal. Ha platicado con Mike Saurio y me decía que sí hay un... Sí, se planea migrar a la versión 8, que es la actual. Ahorita tenemos la 5.7, pero sí implica... Como hay mucha dependencia, se implica bastante, bastante test. Entonces, no creo que ocurra pronto, pero sí se... No sé si a la 8 o a Postgre, en realidad. A las 2 nos serviría. Sí, creo que nos usamos más Postgre que cualquier otra cosa, pero sería más chévere. Pero bien, bien. Listo. Entonces, mira, aquí es lo que yo te digo. Una vez que te das la base o la fuente, aquí hay una opción. Live o extract. Entonces, lo normal es usar con extract para que el tablo corra más rápido. Si no, por ejemplo, si intentas hacer una gráfica, lo que vas a hacer es... Puedo coger la fuente, la fuente va y consulta la base de datos. Luego de que traes eso, ahí sí empieza como procesar todo. Mientras que con extract tiene como una foto de los datos en el X periodo del tiempo. Y ya con eso trabaja de forma más óptima. Ok. Y este extract, o sea, tú lo puedes decir como last three months o algo así? O sí es fijo. Depende de cómo tú traigas la... Cómo tú traigas la fuente. A la query. O sea, si con la query puedes ponernos. Traeme los últimos dos meses y... Te va a traer los últimos dos meses tal cual como hagas la query. Lo puedes traer. O se le hacen aquí por aquí filtros de... O los filtros de la fuente de datos directamente. Que no suele usarlo tanto. Vale. Está bien. Listo. Entonces, igual.\n"
     ]
    }
   ],
   "source": [
    "print(transcription[\"text\"])"
   ]
  },
  {
   "cell_type": "code",
   "execution_count": 7,
   "metadata": {},
   "outputs": [],
   "source": [
    "with open(\"transcripted_files/sync_dash_test.txt\", \"w\") as text_file:\n",
    "    text_file.write(transcription[\"text\"])"
   ]
  },
  {
   "cell_type": "code",
   "execution_count": null,
   "metadata": {},
   "outputs": [],
   "source": []
  }
 ],
 "metadata": {
  "kernelspec": {
   "display_name": "learn_whisper-C_LMKwxl",
   "language": "python",
   "name": "python3"
  },
  "language_info": {
   "codemirror_mode": {
    "name": "ipython",
    "version": 3
   },
   "file_extension": ".py",
   "mimetype": "text/x-python",
   "name": "python",
   "nbconvert_exporter": "python",
   "pygments_lexer": "ipython3",
   "version": "3.10.9"
  },
  "orig_nbformat": 4
 },
 "nbformat": 4,
 "nbformat_minor": 2
}
